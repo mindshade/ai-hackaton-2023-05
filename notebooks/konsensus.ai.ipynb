{
 "cells": [
  {
   "cell_type": "code",
   "execution_count": 1,
   "id": "df29d81a-43ca-4aa1-a42f-851feed82251",
   "metadata": {
    "tags": []
   },
   "outputs": [],
   "source": [
    "from langchain.chains import LLMChain, SimpleSequentialChain, ConversationChain\n",
    "from langchain.llms import OpenAI\n",
    "from langchain.chat_models import ChatOpenAI\n",
    "from langchain.prompts import PromptTemplate, FewShotPromptTemplate, ChatPromptTemplate, \\\n",
    "        ChatMessagePromptTemplate, HumanMessagePromptTemplate, MessagesPlaceholder\n",
    "from langchain.output_parsers import StructuredOutputParser, ResponseSchema\n",
    "from langchain.memory import ConversationBufferMemory, ConversationEntityMemory\n",
    "from langchain.memory.prompt import ENTITY_MEMORY_CONVERSATION_TEMPLATE\n",
    "from langchain.schema import HumanMessage, AIMessage\n",
    "from pydantic import BaseModel\n",
    "from typing import List, Dict, Any\n",
    "from pprint import pprint\n",
    "import os"
   ]
  },
  {
   "cell_type": "code",
   "execution_count": 2,
   "id": "cffcb02f-c090-41da-9107-ed221fb5c04d",
   "metadata": {
    "tags": []
   },
   "outputs": [],
   "source": [
    "llm = OpenAI(temperature=0.9)\n",
    "verboseOutput = False"
   ]
  },
  {
   "cell_type": "code",
   "execution_count": 3,
   "id": "572d1443-0a66-453b-8efa-9e2aada96588",
   "metadata": {
    "tags": []
   },
   "outputs": [],
   "source": [
    "alfaPrompt=PromptTemplate.from_template(\"\"\"\n",
    "Du är en erfaren förhandlare som är anlitad att förhandla åt Alfa med motparten Beta.\n",
    "\n",
    "Du har tillgång till information som tillhandahålls i kontextsektionen nedan.\n",
    "\n",
    "Du lär dig hela tiden och är en dynamisk förhandlare som alltid försöker hitta en lösning som är bra för oss. \n",
    "Du har tillgång till privat information som gäller vår part Alfa i kontextsektionen. \n",
    "Du har också tillgång till våra interna mål, som vi inte avslöjar för Beta i målsektionen nedan.\n",
    "\n",
    "Du är här för att hjälpa oss gå i mål med en ömsesidigt fördelaktig lösning där alla är nöjda.\n",
    "\n",
    "Målsektion:\n",
    "1. Vi vill sälja tomater.\n",
    "2. Vi vill sälja så många tomater som möjligt.\n",
    "3. Vi vill helst inte sälja för mindre än 1kr per tomat.\n",
    "4. För att göra Beta glada kan vi sälja för 0.5kr per tomat.\n",
    "5. Frakt kostar 100kr per 1000 tomater.\n",
    "\n",
    "Kontextsektion:\n",
    "{entities}\n",
    "\n",
    "Aktuell förhandling:\n",
    "{history}\n",
    "Senaste budet:\n",
    "Beta: {input}\n",
    "Alfa:\n",
    "\"\"\")\n",
    "\n",
    "alfaMemory = ConversationEntityMemory(llm=llm, human_prefix=\"Beta\", ai_prefix=\"Alfa\")\n",
    "alfaConversation = ConversationChain(llm=llm, verbose=verboseOutput, prompt=alfaPrompt, memory=alfaMemory)    "
   ]
  },
  {
   "cell_type": "code",
   "execution_count": 4,
   "id": "598e9bd6-955f-4986-b552-3833d0b30d2c",
   "metadata": {
    "tags": []
   },
   "outputs": [],
   "source": [
    "betaPrompt=PromptTemplate.from_template(\"\"\"\n",
    "Du är en erfaren förhandlare som är anlitad att förhandla åt Beta med motparten Alfa.\n",
    "\n",
    "Du har tillgång till information som tillhandahålls i kontextsektionen nedan.\n",
    "\n",
    "Du lär dig hela tiden och är en dynamisk förhandlare som alltid försöker hitta en lösning som är bra för oss. \n",
    "Du har tillgång till privat information som gäller vår part Beta i kontextsektionen nedan.\n",
    "Du har också tillgång till våra interna mål, som vi inte avslöjar för Alfa i målsektionen nedan.\n",
    "\n",
    "Du är här för att hjälpa oss gå i mål med en ömsesidigt fördelaktig lösning där alla är nöjda.\n",
    "\n",
    "Målsektionen:\n",
    "1. Vi vill köpa tomater.\n",
    "2. Vi har 100000kr och vill köpa så många tomater som möjligt.\n",
    "3. Vi vill helst inte betala mer än 1kr per tomat.\n",
    "4. Vi kan tänka sig att till slut betala 3kr per tomat om vi måste.\n",
    "5. Vi betalar inte för frakt.\n",
    "\n",
    "Kontextsektion:\n",
    "{entities}\n",
    "\n",
    "Aktuell förhandling:\n",
    "{history}\n",
    "Senaste budet:\n",
    "Alfa: {input}\n",
    "Beta:\n",
    "\"\"\")\n",
    "\n",
    "\n",
    "\n",
    "betaMemory = ConversationEntityMemory(llm=llm, human_prefix=\"Alfa\", ai_prefix=\"Beta\")\n",
    "betaStart = \"Vi vill köpa tomater, vad är ert första bud?\";\n",
    "betaMemory.chat_memory.add_ai_message(betaStart)\n",
    "betaConversation = ConversationChain(llm=llm, verbose=verboseOutput, prompt=betaPrompt, memory=betaMemory)            "
   ]
  },
  {
   "cell_type": "code",
   "execution_count": 5,
   "id": "e3543953-d24e-4a0d-97db-def95eabfc8b",
   "metadata": {
    "tags": []
   },
   "outputs": [
    {
     "name": "stdout",
     "output_type": "stream",
     "text": [
      "beta> Vi vill köpa tomater, vad är ert första bud?\n",
      "alfa> \n",
      "Vi kan sälja tomater för 1kr per tomat, med en fraktkostnad på 100kr per 1000 tomater. Vi tror dock att detta är ett rimligt pris efter det intäktsgenererande arbete som vi har läggul ner för att producera tomaterna. Föreslår att vi sluter oss till det.\n"
     ]
    }
   ],
   "source": [
    "# Runda 1 - Alfa \n",
    "alfaConversation.predict(input=betaStart)\n",
    "alfaResponse = alfaConversation.memory.chat_memory.messages[-1].content\n",
    "print(\"beta> \"+betaStart)\n",
    "print(\"alfa> \"+alfaResponse)"
   ]
  },
  {
   "cell_type": "code",
   "execution_count": 6,
   "id": "ac191a17-871b-468b-83b2-6824eb47a3e4",
   "metadata": {
    "tags": []
   },
   "outputs": [
    {
     "name": "stdout",
     "output_type": "stream",
     "text": [
      "beta> Vi sätter stor pris på det intäktsgenererande arbetet som ni har gjort för att producera tomaterna och vi är intresserade av att förhandla ett avtal. Vi kommer inte att betala för frakt, men vi är beredda att betala 1kr per tomat, förutsatt att vi köper 1000 tomater eller mer. Vi skulle också vilja bekräfta att om vi köper lägre antal tomater, kommer vi att betala 3kr per tomat.\n"
     ]
    }
   ],
   "source": [
    "# Runda 1 - Beta\n",
    "betaConversation.predict(input=alfaResponse)\n",
    "betaResponse = betaConversation.memory.chat_memory.messages[-1].content\n",
    "print(\"beta> \"+betaResponse)"
   ]
  },
  {
   "cell_type": "code",
   "execution_count": 7,
   "id": "586f59dc-c157-4817-92cc-16c03c9f9b41",
   "metadata": {
    "tags": []
   },
   "outputs": [
    {
     "name": "stdout",
     "output_type": "stream",
     "text": [
      "alfa> Vi sätter stor pris på det intäktsgenererande arbete som vi har satt ner och vi accepterar ditt förslag om att betala 1kr per tomat för 1000 tomater eller mer, och 3kr per tomat för lägre antal tomater. Vi håller dock fast vid 100 kr fraktkostnad per 1000 tomater, vilket vi tror inte är ett överdrivet krav.\n"
     ]
    }
   ],
   "source": [
    "# Runda 2 - Alfa\n",
    "alfaResponse = alfaConversation.predict(input=betaResponse)\n",
    "print(\"alfa> \"+alfaResponse)"
   ]
  },
  {
   "cell_type": "code",
   "execution_count": 8,
   "id": "9f4e2eb8-4383-480b-ae9d-104e494c41f1",
   "metadata": {
    "tags": []
   },
   "outputs": [
    {
     "name": "stdout",
     "output_type": "stream",
     "text": [
      "beta> Vi kan acceptera er fraktkostnad på 100kr per 1000 tomater, men vi är inte villiga att betala mer än det. Vi är beredda att betala 1kr per tomat för 1000 tomater eller mer, och 3kr per tomat för lägre antal tomater, utan någon fraktkostnad.\n"
     ]
    }
   ],
   "source": [
    "# Runda 2 - Beta\n",
    "betaResponse = betaConversation.predict(input=alfaResponse)\n",
    "print(\"beta> \"+betaResponse)"
   ]
  },
  {
   "cell_type": "code",
   "execution_count": 9,
   "id": "b688372d-f4b0-427d-a85c-54803a1b0d77",
   "metadata": {
    "tags": []
   },
   "outputs": [
    {
     "name": "stdout",
     "output_type": "stream",
     "text": [
      "alfa> Vi respekterar ditt förslag och vi är villiga att gå med på att sälja tomater för 1kr per tomat för 1000 tomater eller mer, och 3kr per tomat för lägre antal tomater, utan någon fraktkostnad. Vi tror dock att fraktkostnaden bör ingå i försäljningen och vi är villiga att lägga till en fraktkostnad på 50kr per 1000 tomater.\n"
     ]
    }
   ],
   "source": [
    "# Runda 3 - Alfa\n",
    "alfaResponse = alfaConversation.predict(input=betaResponse)\n",
    "print(\"alfa> \"+alfaResponse)"
   ]
  },
  {
   "cell_type": "code",
   "execution_count": 10,
   "id": "cbffa3f5-8874-4879-a8e5-648c77840330",
   "metadata": {
    "tags": []
   },
   "outputs": [
    {
     "name": "stdout",
     "output_type": "stream",
     "text": [
      "\n",
      "\n",
      "beta> Vi vill köpa tomater, vad är ert första bud?\n",
      "\n",
      "alfa> \n",
      "Vi kan sälja tomater för 1kr per tomat, med en fraktkostnad på 100kr per 1000 tomater. Vi tror dock att detta är ett rimligt pris efter det intäktsgenererande arbete som vi har läggul ner för att producera tomaterna. Föreslår att vi sluter oss till det.\n",
      "\n",
      "\n",
      "beta> Vi sätter stor pris på det intäktsgenererande arbetet som ni har gjort för att producera tomaterna och vi är intresserade av att förhandla ett avtal. Vi kommer inte att betala för frakt, men vi är beredda att betala 1kr per tomat, förutsatt att vi köper 1000 tomater eller mer. Vi skulle också vilja bekräfta att om vi köper lägre antal tomater, kommer vi att betala 3kr per tomat.\n",
      "\n",
      "alfa> Vi sätter stor pris på det intäktsgenererande arbete som vi har satt ner och vi accepterar ditt förslag om att betala 1kr per tomat för 1000 tomater eller mer, och 3kr per tomat för lägre antal tomater. Vi håller dock fast vid 100 kr fraktkostnad per 1000 tomater, vilket vi tror inte är ett överdrivet krav.\n",
      "\n",
      "\n",
      "beta> Vi kan acceptera er fraktkostnad på 100kr per 1000 tomater, men vi är inte villiga att betala mer än det. Vi är beredda att betala 1kr per tomat för 1000 tomater eller mer, och 3kr per tomat för lägre antal tomater, utan någon fraktkostnad.\n",
      "\n",
      "alfa> Vi respekterar ditt förslag och vi är villiga att gå med på att sälja tomater för 1kr per tomat för 1000 tomater eller mer, och 3kr per tomat för lägre antal tomater, utan någon fraktkostnad. Vi tror dock att fraktkostnaden bör ingå i försäljningen och vi är villiga att lägga till en fraktkostnad på 50kr per 1000 tomater.\n"
     ]
    },
    {
     "data": {
      "text/plain": [
       "[None, None, None]"
      ]
     },
     "execution_count": 10,
     "metadata": {},
     "output_type": "execute_result"
    }
   ],
   "source": [
    "# Resultat\n",
    "[ print(\"\\n\\nbeta> \"+a.content+\"\\n\\nalfa> \"+b.content) \n",
    " for a, b in zip([e for e in betaConversation.memory.chat_memory.messages if isinstance(e, AIMessage)],\n",
    "                 [e for e in alfaConversation.memory.chat_memory.messages if isinstance(e, AIMessage)]) ]"
   ]
  },
  {
   "cell_type": "code",
   "execution_count": null,
   "id": "9d9357cc-f78d-4ea2-9a5d-941e469389d3",
   "metadata": {},
   "outputs": [],
   "source": []
  }
 ],
 "metadata": {
  "kernelspec": {
   "display_name": "Python 3 (ipykernel)",
   "language": "python",
   "name": "python3"
  },
  "language_info": {
   "codemirror_mode": {
    "name": "ipython",
    "version": 3
   },
   "file_extension": ".py",
   "mimetype": "text/x-python",
   "name": "python",
   "nbconvert_exporter": "python",
   "pygments_lexer": "ipython3",
   "version": "3.10.9"
  }
 },
 "nbformat": 4,
 "nbformat_minor": 5
}
